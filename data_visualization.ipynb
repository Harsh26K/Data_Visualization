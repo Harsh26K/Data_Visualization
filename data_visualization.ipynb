{
 "cells": [
  {
   "cell_type": "markdown",
   "metadata": {},
   "source": [
    "we will visualize general trends for more visualizations check:\n",
    "<a href='https://public.tableau.com/app/profile/harshavardhan.kamble/viz/BTSvsBLACKPINKvsTWICE/Dashboard1'>K-Pop's Big 3</a>"
   ]
  },
  {
   "cell_type": "code",
   "execution_count": null,
   "metadata": {},
   "outputs": [],
   "source": [
    "import pandas as pd\n",
    "import numpy as np\n",
    "import matplotlib.pyplot as plt\n",
    "import seaborn as sns"
   ]
  },
  {
   "cell_type": "code",
   "execution_count": null,
   "metadata": {},
   "outputs": [],
   "source": [
    "# Plotting pretty figures and avoid blurry images\n",
    "%config InlineBackend.figure_format = 'retina'\n",
    "# Larger scale for plots in notebooks\n",
    "sns.set_context('notebook')\n",
    "\n",
    "# Ignore warnings\n",
    "import warnings\n",
    "warnings.filterwarnings('ignore')"
   ]
  },
  {
   "cell_type": "code",
   "execution_count": null,
   "metadata": {},
   "outputs": [],
   "source": [
    "df = pd.read_excel('with_additions.xlsx')"
   ]
  },
  {
   "cell_type": "code",
   "execution_count": null,
   "metadata": {},
   "outputs": [],
   "source": [
    "df.describe()"
   ]
  },
  {
   "cell_type": "code",
   "execution_count": null,
   "metadata": {},
   "outputs": [],
   "source": [
    "df['channelTitle'].value_counts()"
   ]
  },
  {
   "cell_type": "code",
   "execution_count": null,
   "metadata": {},
   "outputs": [],
   "source": [
    "hue_dict ={'BLACKPINK':'pink',\n",
    "    'BTS':'purple',\n",
    "    'TWICE':'orange'}"
   ]
  },
  {
   "cell_type": "code",
   "execution_count": null,
   "metadata": {},
   "outputs": [],
   "source": [
    "# plt.scatter(x=df['viewCount'],y=df['Social_engagement'])\n",
    "# sns.scatterplot(x=df['viewCount'],y=df['Social_engagement'],hue=df['channelTitle']).set(title=\"Social Engaement per view count\")\n",
    "#create relplot\n",
    "rel = sns.relplot(data=df, \n",
    "                    x='viewCount', \n",
    "                    y='Social_engagement', \n",
    "                    col='channelTitle',\n",
    "                    hue= 'channelTitle',\n",
    "                    palette=hue_dict)\n",
    "\n",
    "#add overall title\n",
    "rel.fig.subplots_adjust(top=.8)\n",
    "rel.fig.suptitle('Social Engaement per view count')"
   ]
  },
  {
   "cell_type": "code",
   "execution_count": null,
   "metadata": {},
   "outputs": [],
   "source": [
    "# plt.scatter(x=df['viewCount'],y=df['likeCount'])\n",
    "# sns.scatter(x=df['viewCount'],y=df['likeCount'])\n",
    "\n",
    "rel = sns.relplot(data=df,\n",
    "            x='viewCount',\n",
    "            y='likeCount',\n",
    "            # col='channelTitle',\n",
    "            kind='line',\n",
    "            hue='channelTitle',\n",
    "            palette = hue_dict)\n",
    "\n",
    "rel.fig.subplots_adjust(top=.8)\n",
    "rel.fig.suptitle('likes vs views')"
   ]
  },
  {
   "cell_type": "code",
   "execution_count": null,
   "metadata": {},
   "outputs": [],
   "source": [
    "# plt.scatter(x=df['viewCount'],y=df['commentCount'])\n",
    "# sns.scatter(x=df['viewCount'],y=df['commentCount'])\n",
    "\n",
    "rel = sns.relplot(data=df,\n",
    "    x='viewCount',\n",
    "    y='commentCount',\n",
    "    kind='line',\n",
    "    hue='channelTitle',\n",
    "    palette=hue_dict\n",
    "    )\n",
    "\n",
    "rel.fig.subplots_adjust(top=.8)\n",
    "rel.fig.suptitle('comments vs views')"
   ]
  },
  {
   "cell_type": "code",
   "execution_count": null,
   "metadata": {},
   "outputs": [],
   "source": [
    "# plt.scatter(x=df['duration(sec.)'],y=df['viewCount'])\n",
    "# sns.scatter(x=df['duration(sec.)'],y=df['viewCount'])\n",
    "fig = sns.scatterplot(data=df,\n",
    "                    x='duration(sec.)',\n",
    "                    y='viewCount',\n",
    "                    # hue='channelTitle',\n",
    "                    palette=hue_dict,\n",
    "                )\n",
    "\n",
    "# fig.subplots_adjust(top=.8)\n",
    "fig.set(title='views vs video length')"
   ]
  },
  {
   "cell_type": "code",
   "execution_count": null,
   "metadata": {},
   "outputs": [],
   "source": [
    "# plt.scatter(x=df['viewCount'],y=df['tag_count'])\n",
    "# sns.scatterplot(x=df['viewCount'],y=df['tag_count'])\n",
    "\n",
    "sns.scatterplot(data=df,\n",
    "                x='tag_count',\n",
    "                y='viewCount',\n",
    ").set(title='Views vs Tags')"
   ]
  },
  {
   "cell_type": "code",
   "execution_count": null,
   "metadata": {},
   "outputs": [],
   "source": [
    "plt.bar(x=df['channelTitle'],\n",
    "        height=df['viewCount'].aggregate(np.average))\n",
    "plt.title('Avg. views')"
   ]
  },
  {
   "cell_type": "code",
   "execution_count": null,
   "metadata": {},
   "outputs": [],
   "source": [
    "plt.bar(x=df['channelTitle'],height=df['likeCount'].aggregate(np.average))\n",
    "plt.title('Avg. Likes')\n",
    "# plt.bar(x=df['channelTitle'],height=df['likeRatio'].aggregate(np.average))"
   ]
  },
  {
   "cell_type": "code",
   "execution_count": null,
   "metadata": {},
   "outputs": [],
   "source": [
    "plt.bar(x=df['channelTitle'],height=df['Social_engagement'].aggregate(np.average))\n",
    "plt.title('Social Engagement')"
   ]
  }
 ],
 "metadata": {
  "kernelspec": {
   "display_name": "Python 3.8.6 64-bit",
   "language": "python",
   "name": "python3"
  },
  "language_info": {
   "codemirror_mode": {
    "name": "ipython",
    "version": 3
   },
   "file_extension": ".py",
   "mimetype": "text/x-python",
   "name": "python",
   "nbconvert_exporter": "python",
   "pygments_lexer": "ipython3",
   "version": "3.8.6"
  },
  "orig_nbformat": 4,
  "vscode": {
   "interpreter": {
    "hash": "f10baa5b3d4a9dc3d5b34fbeebfe08e4928904525b5dad22aa919ba5b8f3b95e"
   }
  }
 },
 "nbformat": 4,
 "nbformat_minor": 2
}
